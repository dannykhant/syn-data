{
 "cells": [
  {
   "cell_type": "code",
   "execution_count": 1,
   "id": "22efa127-58f2-43ce-9ecc-01e5b7b701cf",
   "metadata": {},
   "outputs": [],
   "source": [
    "import polars as pl"
   ]
  },
  {
   "cell_type": "code",
   "execution_count": 6,
   "id": "fc21b49e-9ed9-402b-92f4-5a27decff1a8",
   "metadata": {},
   "outputs": [],
   "source": [
    "cust = pl.read_csv(\"../datasets/syn_ecomm_dataset/customers_backfill.csv\")\n",
    "ordr = pl.read_csv(\"../datasets/syn_ecomm_dataset/orders_backfill.csv\")\n",
    "odit = pl.read_csv(\"../datasets/syn_ecomm_dataset/order_items_backfill.csv\")\n",
    "prod = pl.read_csv(\"../datasets/syn_ecomm_dataset/products_backfill.csv\")"
   ]
  },
  {
   "cell_type": "code",
   "execution_count": 5,
   "id": "028304c5-a31e-4d03-82cb-fa54d99b611c",
   "metadata": {},
   "outputs": [
    {
     "data": {
      "text/html": [
       "<div><style>\n",
       ".dataframe > thead > tr,\n",
       ".dataframe > tbody > tr {\n",
       "  text-align: right;\n",
       "  white-space: pre-wrap;\n",
       "}\n",
       "</style>\n",
       "<small>shape: (3, 6)</small><table border=\"1\" class=\"dataframe\"><thead><tr><th>customer_id</th><th>first_name</th><th>last_name</th><th>email</th><th>created_at</th><th>updated_at</th></tr><tr><td>str</td><td>str</td><td>str</td><td>str</td><td>str</td><td>str</td></tr></thead><tbody><tr><td>&quot;f422a6b7-9962-42ca-aff7-3af37b…</td><td>&quot;Paul&quot;</td><td>&quot;King&quot;</td><td>&quot;paul.king18@example.com&quot;</td><td>&quot;2025-02-13T22:52:22.327174&quot;</td><td>&quot;2025-02-13T22:52:22.327174&quot;</td></tr><tr><td>&quot;ba4f6ae8-fe78-49a3-972b-f02fff…</td><td>&quot;Maria&quot;</td><td>&quot;Melton&quot;</td><td>&quot;maria.melton12@example.com&quot;</td><td>&quot;2025-03-15T07:27:05.681913&quot;</td><td>&quot;2025-03-15T07:27:05.681913&quot;</td></tr><tr><td>&quot;cfb4a6bb-2632-4a9d-ab5b-44e912…</td><td>&quot;Jose&quot;</td><td>&quot;Middleton&quot;</td><td>&quot;jose.middleton23@example.com&quot;</td><td>&quot;2025-01-10T09:48:23.722809&quot;</td><td>&quot;2025-01-10T09:48:23.722809&quot;</td></tr></tbody></table></div>"
      ],
      "text/plain": [
       "shape: (3, 6)\n",
       "┌──────────────────┬────────────┬───────────┬──────────────────┬─────────────────┬─────────────────┐\n",
       "│ customer_id      ┆ first_name ┆ last_name ┆ email            ┆ created_at      ┆ updated_at      │\n",
       "│ ---              ┆ ---        ┆ ---       ┆ ---              ┆ ---             ┆ ---             │\n",
       "│ str              ┆ str        ┆ str       ┆ str              ┆ str             ┆ str             │\n",
       "╞══════════════════╪════════════╪═══════════╪══════════════════╪═════════════════╪═════════════════╡\n",
       "│ f422a6b7-9962-42 ┆ Paul       ┆ King      ┆ paul.king18@exam ┆ 2025-02-13T22:5 ┆ 2025-02-13T22:5 │\n",
       "│ ca-aff7-3af37b…  ┆            ┆           ┆ ple.com          ┆ 2:22.327174     ┆ 2:22.327174     │\n",
       "│ ba4f6ae8-fe78-49 ┆ Maria      ┆ Melton    ┆ maria.melton12@e ┆ 2025-03-15T07:2 ┆ 2025-03-15T07:2 │\n",
       "│ a3-972b-f02fff…  ┆            ┆           ┆ xample.com       ┆ 7:05.681913     ┆ 7:05.681913     │\n",
       "│ cfb4a6bb-2632-4a ┆ Jose       ┆ Middleton ┆ jose.middleton23 ┆ 2025-01-10T09:4 ┆ 2025-01-10T09:4 │\n",
       "│ 9d-ab5b-44e912…  ┆            ┆           ┆ @example.com     ┆ 8:23.722809     ┆ 8:23.722809     │\n",
       "└──────────────────┴────────────┴───────────┴──────────────────┴─────────────────┴─────────────────┘"
      ]
     },
     "execution_count": 5,
     "metadata": {},
     "output_type": "execute_result"
    }
   ],
   "source": [
    "cust.head(3)"
   ]
  },
  {
   "cell_type": "code",
   "execution_count": 7,
   "id": "9fe56bfb-d0c9-438e-b260-b536a03601c8",
   "metadata": {},
   "outputs": [
    {
     "data": {
      "text/html": [
       "<div><style>\n",
       ".dataframe > thead > tr,\n",
       ".dataframe > tbody > tr {\n",
       "  text-align: right;\n",
       "  white-space: pre-wrap;\n",
       "}\n",
       "</style>\n",
       "<small>shape: (3, 7)</small><table border=\"1\" class=\"dataframe\"><thead><tr><th>order_id</th><th>customer_id</th><th>order_date</th><th>status</th><th>total_amount</th><th>created_at</th><th>updated_at</th></tr><tr><td>str</td><td>str</td><td>str</td><td>str</td><td>f64</td><td>str</td><td>str</td></tr></thead><tbody><tr><td>&quot;346f2e23-6b2a-4574-b1fe-3c7e50…</td><td>&quot;17d20d98-9ffe-41e8-b885-7aaa4e…</td><td>&quot;2025-02-06T13:32:10.202348&quot;</td><td>&quot;pending&quot;</td><td>59.2</td><td>&quot;2025-02-06T13:32:10.202348&quot;</td><td>&quot;2025-02-06T13:32:10.202348&quot;</td></tr><tr><td>&quot;899c0b0e-3228-43b2-a1eb-89d918…</td><td>&quot;bd50c680-e965-4c18-b80b-710336…</td><td>&quot;2025-03-01T15:09:11.562145&quot;</td><td>&quot;cancelled&quot;</td><td>18.02</td><td>&quot;2025-03-01T15:09:11.562145&quot;</td><td>&quot;2025-03-01T15:09:11.562145&quot;</td></tr><tr><td>&quot;dbfa028d-2c8b-4493-95c3-b1d0d3…</td><td>&quot;ebb58266-30b4-4555-9150-f8e2f4…</td><td>&quot;2024-12-08T10:27:24.955513&quot;</td><td>&quot;cancelled&quot;</td><td>172.41</td><td>&quot;2024-12-08T10:27:24.955513&quot;</td><td>&quot;2024-12-08T10:27:24.955513&quot;</td></tr></tbody></table></div>"
      ],
      "text/plain": [
       "shape: (3, 7)\n",
       "┌──────────────┬──────────────┬──────────────┬───────────┬─────────────┬─────────────┬─────────────┐\n",
       "│ order_id     ┆ customer_id  ┆ order_date   ┆ status    ┆ total_amoun ┆ created_at  ┆ updated_at  │\n",
       "│ ---          ┆ ---          ┆ ---          ┆ ---       ┆ t           ┆ ---         ┆ ---         │\n",
       "│ str          ┆ str          ┆ str          ┆ str       ┆ ---         ┆ str         ┆ str         │\n",
       "│              ┆              ┆              ┆           ┆ f64         ┆             ┆             │\n",
       "╞══════════════╪══════════════╪══════════════╪═══════════╪═════════════╪═════════════╪═════════════╡\n",
       "│ 346f2e23-6b2 ┆ 17d20d98-9ff ┆ 2025-02-06T1 ┆ pending   ┆ 59.2        ┆ 2025-02-06T ┆ 2025-02-06T │\n",
       "│ a-4574-b1fe- ┆ e-41e8-b885- ┆ 3:32:10.2023 ┆           ┆             ┆ 13:32:10.20 ┆ 13:32:10.20 │\n",
       "│ 3c7e50…      ┆ 7aaa4e…      ┆ 48           ┆           ┆             ┆ 2348        ┆ 2348        │\n",
       "│ 899c0b0e-322 ┆ bd50c680-e96 ┆ 2025-03-01T1 ┆ cancelled ┆ 18.02       ┆ 2025-03-01T ┆ 2025-03-01T │\n",
       "│ 8-43b2-a1eb- ┆ 5-4c18-b80b- ┆ 5:09:11.5621 ┆           ┆             ┆ 15:09:11.56 ┆ 15:09:11.56 │\n",
       "│ 89d918…      ┆ 710336…      ┆ 45           ┆           ┆             ┆ 2145        ┆ 2145        │\n",
       "│ dbfa028d-2c8 ┆ ebb58266-30b ┆ 2024-12-08T1 ┆ cancelled ┆ 172.41      ┆ 2024-12-08T ┆ 2024-12-08T │\n",
       "│ b-4493-95c3- ┆ 4-4555-9150- ┆ 0:27:24.9555 ┆           ┆             ┆ 10:27:24.95 ┆ 10:27:24.95 │\n",
       "│ b1d0d3…      ┆ f8e2f4…      ┆ 13           ┆           ┆             ┆ 5513        ┆ 5513        │\n",
       "└──────────────┴──────────────┴──────────────┴───────────┴─────────────┴─────────────┴─────────────┘"
      ]
     },
     "execution_count": 7,
     "metadata": {},
     "output_type": "execute_result"
    }
   ],
   "source": [
    "ordr.head(3)"
   ]
  },
  {
   "cell_type": "code",
   "execution_count": 8,
   "id": "735d5d23-8afe-43a5-8f32-2d95c86f7b24",
   "metadata": {},
   "outputs": [
    {
     "data": {
      "text/html": [
       "<div><style>\n",
       ".dataframe > thead > tr,\n",
       ".dataframe > tbody > tr {\n",
       "  text-align: right;\n",
       "  white-space: pre-wrap;\n",
       "}\n",
       "</style>\n",
       "<small>shape: (3, 7)</small><table border=\"1\" class=\"dataframe\"><thead><tr><th>order_item_id</th><th>order_id</th><th>product_id</th><th>quantity</th><th>item_price</th><th>created_at</th><th>updated_at</th></tr><tr><td>str</td><td>str</td><td>str</td><td>i64</td><td>f64</td><td>str</td><td>str</td></tr></thead><tbody><tr><td>&quot;75ac822d-2b78-45bf-982b-e8a83b…</td><td>&quot;346f2e23-6b2a-4574-b1fe-3c7e50…</td><td>&quot;ad1716be-9c1e-4673-9a82-a8547a…</td><td>2</td><td>59.2</td><td>&quot;2025-02-06T13:32:10.202348&quot;</td><td>&quot;2025-02-06T13:32:10.202348&quot;</td></tr><tr><td>&quot;600d2682-ed72-4595-b981-d0fbb2…</td><td>&quot;899c0b0e-3228-43b2-a1eb-89d918…</td><td>&quot;e53e9706-ffe4-43e4-bbe4-ca3d44…</td><td>2</td><td>18.02</td><td>&quot;2025-03-01T15:09:11.562145&quot;</td><td>&quot;2025-03-01T15:09:11.562145&quot;</td></tr><tr><td>&quot;faa63067-734c-43f3-bdcb-cc179a…</td><td>&quot;dbfa028d-2c8b-4493-95c3-b1d0d3…</td><td>&quot;89e6b93c-67e6-4b2f-a253-68e237…</td><td>3</td><td>83.13</td><td>&quot;2024-12-08T10:27:24.955513&quot;</td><td>&quot;2024-12-08T10:27:24.955513&quot;</td></tr></tbody></table></div>"
      ],
      "text/plain": [
       "shape: (3, 7)\n",
       "┌──────────────┬──────────────┬──────────────┬──────────┬────────────┬──────────────┬──────────────┐\n",
       "│ order_item_i ┆ order_id     ┆ product_id   ┆ quantity ┆ item_price ┆ created_at   ┆ updated_at   │\n",
       "│ d            ┆ ---          ┆ ---          ┆ ---      ┆ ---        ┆ ---          ┆ ---          │\n",
       "│ ---          ┆ str          ┆ str          ┆ i64      ┆ f64        ┆ str          ┆ str          │\n",
       "│ str          ┆              ┆              ┆          ┆            ┆              ┆              │\n",
       "╞══════════════╪══════════════╪══════════════╪══════════╪════════════╪══════════════╪══════════════╡\n",
       "│ 75ac822d-2b7 ┆ 346f2e23-6b2 ┆ ad1716be-9c1 ┆ 2        ┆ 59.2       ┆ 2025-02-06T1 ┆ 2025-02-06T1 │\n",
       "│ 8-45bf-982b- ┆ a-4574-b1fe- ┆ e-4673-9a82- ┆          ┆            ┆ 3:32:10.2023 ┆ 3:32:10.2023 │\n",
       "│ e8a83b…      ┆ 3c7e50…      ┆ a8547a…      ┆          ┆            ┆ 48           ┆ 48           │\n",
       "│ 600d2682-ed7 ┆ 899c0b0e-322 ┆ e53e9706-ffe ┆ 2        ┆ 18.02      ┆ 2025-03-01T1 ┆ 2025-03-01T1 │\n",
       "│ 2-4595-b981- ┆ 8-43b2-a1eb- ┆ 4-43e4-bbe4- ┆          ┆            ┆ 5:09:11.5621 ┆ 5:09:11.5621 │\n",
       "│ d0fbb2…      ┆ 89d918…      ┆ ca3d44…      ┆          ┆            ┆ 45           ┆ 45           │\n",
       "│ faa63067-734 ┆ dbfa028d-2c8 ┆ 89e6b93c-67e ┆ 3        ┆ 83.13      ┆ 2024-12-08T1 ┆ 2024-12-08T1 │\n",
       "│ c-43f3-bdcb- ┆ b-4493-95c3- ┆ 6-4b2f-a253- ┆          ┆            ┆ 0:27:24.9555 ┆ 0:27:24.9555 │\n",
       "│ cc179a…      ┆ b1d0d3…      ┆ 68e237…      ┆          ┆            ┆ 13           ┆ 13           │\n",
       "└──────────────┴──────────────┴──────────────┴──────────┴────────────┴──────────────┴──────────────┘"
      ]
     },
     "execution_count": 8,
     "metadata": {},
     "output_type": "execute_result"
    }
   ],
   "source": [
    "odit.head(3)"
   ]
  },
  {
   "cell_type": "code",
   "execution_count": 9,
   "id": "6f4d023a-97a6-4dce-91b3-e0f3f6a35c14",
   "metadata": {},
   "outputs": [
    {
     "data": {
      "text/html": [
       "<div><style>\n",
       ".dataframe > thead > tr,\n",
       ".dataframe > tbody > tr {\n",
       "  text-align: right;\n",
       "  white-space: pre-wrap;\n",
       "}\n",
       "</style>\n",
       "<small>shape: (3, 6)</small><table border=\"1\" class=\"dataframe\"><thead><tr><th>product_id</th><th>product_name</th><th>price</th><th>category</th><th>created_at</th><th>updated_at</th></tr><tr><td>str</td><td>str</td><td>f64</td><td>str</td><td>str</td><td>str</td></tr></thead><tbody><tr><td>&quot;a068afa6-456a-4b83-b66b-eac309…</td><td>&quot;Minute Maid Lemonade&quot;</td><td>11.91</td><td>&quot;Beverages&quot;</td><td>&quot;2025-01-20T04:05:13.425324&quot;</td><td>&quot;2025-01-20T04:05:13.425324&quot;</td></tr><tr><td>&quot;543582b4-cf5d-44c8-9cd6-ca596b…</td><td>&quot;DayQuil Cold &amp; Flu&quot;</td><td>13.3</td><td>&quot;Health &amp; Wellness&quot;</td><td>&quot;2025-03-18T09:33:00.264286&quot;</td><td>&quot;2025-03-18T09:33:00.264286&quot;</td></tr><tr><td>&quot;e8bbd511-f0ab-4cbd-a4b1-0ba16a…</td><td>&quot;Pringles Original&quot;</td><td>33.04</td><td>&quot;Packaged Foods &amp; Snacks&quot;</td><td>&quot;2024-11-02T18:50:44.623130&quot;</td><td>&quot;2024-11-02T18:50:44.623130&quot;</td></tr></tbody></table></div>"
      ],
      "text/plain": [
       "shape: (3, 6)\n",
       "┌──────────────────┬─────────────────┬───────┬─────────────────┬─────────────────┬─────────────────┐\n",
       "│ product_id       ┆ product_name    ┆ price ┆ category        ┆ created_at      ┆ updated_at      │\n",
       "│ ---              ┆ ---             ┆ ---   ┆ ---             ┆ ---             ┆ ---             │\n",
       "│ str              ┆ str             ┆ f64   ┆ str             ┆ str             ┆ str             │\n",
       "╞══════════════════╪═════════════════╪═══════╪═════════════════╪═════════════════╪═════════════════╡\n",
       "│ a068afa6-456a-4b ┆ Minute Maid     ┆ 11.91 ┆ Beverages       ┆ 2025-01-20T04:0 ┆ 2025-01-20T04:0 │\n",
       "│ 83-b66b-eac309…  ┆ Lemonade        ┆       ┆                 ┆ 5:13.425324     ┆ 5:13.425324     │\n",
       "│ 543582b4-cf5d-44 ┆ DayQuil Cold &  ┆ 13.3  ┆ Health &        ┆ 2025-03-18T09:3 ┆ 2025-03-18T09:3 │\n",
       "│ c8-9cd6-ca596b…  ┆ Flu             ┆       ┆ Wellness        ┆ 3:00.264286     ┆ 3:00.264286     │\n",
       "│ e8bbd511-f0ab-4c ┆ Pringles        ┆ 33.04 ┆ Packaged Foods  ┆ 2024-11-02T18:5 ┆ 2024-11-02T18:5 │\n",
       "│ bd-a4b1-0ba16a…  ┆ Original        ┆       ┆ & Snacks        ┆ 0:44.623130     ┆ 0:44.623130     │\n",
       "└──────────────────┴─────────────────┴───────┴─────────────────┴─────────────────┴─────────────────┘"
      ]
     },
     "execution_count": 9,
     "metadata": {},
     "output_type": "execute_result"
    }
   ],
   "source": [
    "prod.head(3)"
   ]
  },
  {
   "cell_type": "code",
   "execution_count": 12,
   "id": "6d9390fe-a203-4939-989f-1ee508f9a11c",
   "metadata": {},
   "outputs": [
    {
     "data": {
      "text/html": [
       "<div><style>\n",
       ".dataframe > thead > tr,\n",
       ".dataframe > tbody > tr {\n",
       "  text-align: right;\n",
       "  white-space: pre-wrap;\n",
       "}\n",
       "</style>\n",
       "<small>shape: (4,)</small><table border=\"1\" class=\"dataframe\"><thead><tr><th>status</th></tr><tr><td>str</td></tr></thead><tbody><tr><td>&quot;shipped&quot;</td></tr><tr><td>&quot;delivered&quot;</td></tr><tr><td>&quot;cancelled&quot;</td></tr><tr><td>&quot;pending&quot;</td></tr></tbody></table></div>"
      ],
      "text/plain": [
       "shape: (4,)\n",
       "Series: 'status' [str]\n",
       "[\n",
       "\t\"shipped\"\n",
       "\t\"delivered\"\n",
       "\t\"cancelled\"\n",
       "\t\"pending\"\n",
       "]"
      ]
     },
     "execution_count": 12,
     "metadata": {},
     "output_type": "execute_result"
    }
   ],
   "source": [
    "ordr['status'].unique()"
   ]
  },
  {
   "cell_type": "code",
   "execution_count": null,
   "id": "10d99355-97c5-4930-b1a3-c9f1458648c5",
   "metadata": {},
   "outputs": [],
   "source": []
  }
 ],
 "metadata": {
  "kernelspec": {
   "display_name": "syn-data",
   "language": "python",
   "name": "syn-data"
  },
  "language_info": {
   "codemirror_mode": {
    "name": "ipython",
    "version": 3
   },
   "file_extension": ".py",
   "mimetype": "text/x-python",
   "name": "python",
   "nbconvert_exporter": "python",
   "pygments_lexer": "ipython3",
   "version": "3.10.12"
  }
 },
 "nbformat": 4,
 "nbformat_minor": 5
}
