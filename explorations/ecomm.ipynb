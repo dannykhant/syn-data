{
 "cells": [
  {
   "cell_type": "code",
   "execution_count": 73,
   "id": "22efa127-58f2-43ce-9ecc-01e5b7b701cf",
   "metadata": {},
   "outputs": [],
   "source": [
    "import polars as pl"
   ]
  },
  {
   "cell_type": "code",
   "execution_count": 74,
   "id": "fc21b49e-9ed9-402b-92f4-5a27decff1a8",
   "metadata": {},
   "outputs": [],
   "source": [
    "cust = pl.read_csv(\"../datasets/syn_ecomm_dataset/customers_backfill.csv\")\n",
    "ordr = pl.read_csv(\"../datasets/syn_ecomm_dataset/orders_backfill.csv\")\n",
    "odit = pl.read_csv(\"../datasets/syn_ecomm_dataset/order_items_backfill.csv\")\n",
    "prod = pl.read_csv(\"../datasets/syn_ecomm_dataset/products_backfill.csv\")"
   ]
  },
  {
   "cell_type": "code",
   "execution_count": 75,
   "id": "028304c5-a31e-4d03-82cb-fa54d99b611c",
   "metadata": {},
   "outputs": [
    {
     "data": {
      "text/html": [
       "<div><style>\n",
       ".dataframe > thead > tr,\n",
       ".dataframe > tbody > tr {\n",
       "  text-align: right;\n",
       "  white-space: pre-wrap;\n",
       "}\n",
       "</style>\n",
       "<small>shape: (3, 6)</small><table border=\"1\" class=\"dataframe\"><thead><tr><th>customer_id</th><th>first_name</th><th>last_name</th><th>email</th><th>created_at</th><th>updated_at</th></tr><tr><td>str</td><td>str</td><td>str</td><td>str</td><td>str</td><td>str</td></tr></thead><tbody><tr><td>&quot;448d0fb6-7d54-40f9-859e-bd39fb…</td><td>&quot;Anthony&quot;</td><td>&quot;Rasmussen&quot;</td><td>&quot;anthony.rasmussen70@example.co…</td><td>&quot;2025-07-24T14:00:44.801385&quot;</td><td>&quot;2025-07-24T14:00:44.801385&quot;</td></tr><tr><td>&quot;b8e77e81-6282-4d61-910e-357b91…</td><td>&quot;Brian&quot;</td><td>&quot;Sutton&quot;</td><td>&quot;brian.sutton60@example.com&quot;</td><td>&quot;2024-10-06T21:12:04.592857&quot;</td><td>&quot;2024-10-06T21:12:04.592857&quot;</td></tr><tr><td>&quot;2e20cef7-5a93-45db-89cf-af4ffa…</td><td>&quot;Gordon&quot;</td><td>&quot;Haynes&quot;</td><td>&quot;gordon.haynes78@example.com&quot;</td><td>&quot;2025-07-21T06:28:24.886246&quot;</td><td>&quot;2025-07-21T06:28:24.886246&quot;</td></tr></tbody></table></div>"
      ],
      "text/plain": [
       "shape: (3, 6)\n",
       "┌──────────────────┬────────────┬───────────┬──────────────────┬─────────────────┬─────────────────┐\n",
       "│ customer_id      ┆ first_name ┆ last_name ┆ email            ┆ created_at      ┆ updated_at      │\n",
       "│ ---              ┆ ---        ┆ ---       ┆ ---              ┆ ---             ┆ ---             │\n",
       "│ str              ┆ str        ┆ str       ┆ str              ┆ str             ┆ str             │\n",
       "╞══════════════════╪════════════╪═══════════╪══════════════════╪═════════════════╪═════════════════╡\n",
       "│ 448d0fb6-7d54-40 ┆ Anthony    ┆ Rasmussen ┆ anthony.rasmusse ┆ 2025-07-24T14:0 ┆ 2025-07-24T14:0 │\n",
       "│ f9-859e-bd39fb…  ┆            ┆           ┆ n70@example.co…  ┆ 0:44.801385     ┆ 0:44.801385     │\n",
       "│ b8e77e81-6282-4d ┆ Brian      ┆ Sutton    ┆ brian.sutton60@e ┆ 2024-10-06T21:1 ┆ 2024-10-06T21:1 │\n",
       "│ 61-910e-357b91…  ┆            ┆           ┆ xample.com       ┆ 2:04.592857     ┆ 2:04.592857     │\n",
       "│ 2e20cef7-5a93-45 ┆ Gordon     ┆ Haynes    ┆ gordon.haynes78@ ┆ 2025-07-21T06:2 ┆ 2025-07-21T06:2 │\n",
       "│ db-89cf-af4ffa…  ┆            ┆           ┆ example.com      ┆ 8:24.886246     ┆ 8:24.886246     │\n",
       "└──────────────────┴────────────┴───────────┴──────────────────┴─────────────────┴─────────────────┘"
      ]
     },
     "execution_count": 75,
     "metadata": {},
     "output_type": "execute_result"
    }
   ],
   "source": [
    "cust.head(3)"
   ]
  },
  {
   "cell_type": "code",
   "execution_count": 76,
   "id": "9fe56bfb-d0c9-438e-b260-b536a03601c8",
   "metadata": {},
   "outputs": [
    {
     "data": {
      "text/html": [
       "<div><style>\n",
       ".dataframe > thead > tr,\n",
       ".dataframe > tbody > tr {\n",
       "  text-align: right;\n",
       "  white-space: pre-wrap;\n",
       "}\n",
       "</style>\n",
       "<small>shape: (3, 7)</small><table border=\"1\" class=\"dataframe\"><thead><tr><th>order_id</th><th>customer_id</th><th>order_date</th><th>status</th><th>total_amount</th><th>created_at</th><th>updated_at</th></tr><tr><td>str</td><td>str</td><td>str</td><td>str</td><td>f64</td><td>str</td><td>str</td></tr></thead><tbody><tr><td>&quot;9055d10b-c43e-4360-adf9-1810da…</td><td>&quot;faabec88-723c-4a63-9ce4-0e9f31…</td><td>&quot;2025-04-14T12:09:58.364499&quot;</td><td>&quot;cancelled&quot;</td><td>5.32</td><td>&quot;2025-04-14T12:09:58.364499&quot;</td><td>&quot;2025-04-14T12:09:58.364499&quot;</td></tr><tr><td>&quot;7e6e04f8-6a8f-4d03-a7a6-ab47a9…</td><td>&quot;c4825cca-bd59-4a45-871e-87f30f…</td><td>&quot;2025-03-11T11:05:08.216695&quot;</td><td>&quot;cancelled&quot;</td><td>111.78</td><td>&quot;2025-03-11T11:05:08.216695&quot;</td><td>&quot;2025-03-11T11:05:08.216695&quot;</td></tr><tr><td>&quot;3c28dcc1-2222-45b1-9d43-f77847…</td><td>&quot;dee2d34a-842a-4d8d-bd52-ee9f9e…</td><td>&quot;2025-03-31T10:11:07.677970&quot;</td><td>&quot;delivered&quot;</td><td>52.02</td><td>&quot;2025-03-31T10:11:07.677970&quot;</td><td>&quot;2025-03-31T10:11:07.677970&quot;</td></tr></tbody></table></div>"
      ],
      "text/plain": [
       "shape: (3, 7)\n",
       "┌──────────────┬──────────────┬──────────────┬───────────┬─────────────┬─────────────┬─────────────┐\n",
       "│ order_id     ┆ customer_id  ┆ order_date   ┆ status    ┆ total_amoun ┆ created_at  ┆ updated_at  │\n",
       "│ ---          ┆ ---          ┆ ---          ┆ ---       ┆ t           ┆ ---         ┆ ---         │\n",
       "│ str          ┆ str          ┆ str          ┆ str       ┆ ---         ┆ str         ┆ str         │\n",
       "│              ┆              ┆              ┆           ┆ f64         ┆             ┆             │\n",
       "╞══════════════╪══════════════╪══════════════╪═══════════╪═════════════╪═════════════╪═════════════╡\n",
       "│ 9055d10b-c43 ┆ faabec88-723 ┆ 2025-04-14T1 ┆ cancelled ┆ 5.32        ┆ 2025-04-14T ┆ 2025-04-14T │\n",
       "│ e-4360-adf9- ┆ c-4a63-9ce4- ┆ 2:09:58.3644 ┆           ┆             ┆ 12:09:58.36 ┆ 12:09:58.36 │\n",
       "│ 1810da…      ┆ 0e9f31…      ┆ 99           ┆           ┆             ┆ 4499        ┆ 4499        │\n",
       "│ 7e6e04f8-6a8 ┆ c4825cca-bd5 ┆ 2025-03-11T1 ┆ cancelled ┆ 111.78      ┆ 2025-03-11T ┆ 2025-03-11T │\n",
       "│ f-4d03-a7a6- ┆ 9-4a45-871e- ┆ 1:05:08.2166 ┆           ┆             ┆ 11:05:08.21 ┆ 11:05:08.21 │\n",
       "│ ab47a9…      ┆ 87f30f…      ┆ 95           ┆           ┆             ┆ 6695        ┆ 6695        │\n",
       "│ 3c28dcc1-222 ┆ dee2d34a-842 ┆ 2025-03-31T1 ┆ delivered ┆ 52.02       ┆ 2025-03-31T ┆ 2025-03-31T │\n",
       "│ 2-45b1-9d43- ┆ a-4d8d-bd52- ┆ 0:11:07.6779 ┆           ┆             ┆ 10:11:07.67 ┆ 10:11:07.67 │\n",
       "│ f77847…      ┆ ee9f9e…      ┆ 70           ┆           ┆             ┆ 7970        ┆ 7970        │\n",
       "└──────────────┴──────────────┴──────────────┴───────────┴─────────────┴─────────────┴─────────────┘"
      ]
     },
     "execution_count": 76,
     "metadata": {},
     "output_type": "execute_result"
    }
   ],
   "source": [
    "ordr.head(3)"
   ]
  },
  {
   "cell_type": "code",
   "execution_count": 77,
   "id": "735d5d23-8afe-43a5-8f32-2d95c86f7b24",
   "metadata": {},
   "outputs": [
    {
     "data": {
      "text/html": [
       "<div><style>\n",
       ".dataframe > thead > tr,\n",
       ".dataframe > tbody > tr {\n",
       "  text-align: right;\n",
       "  white-space: pre-wrap;\n",
       "}\n",
       "</style>\n",
       "<small>shape: (3, 8)</small><table border=\"1\" class=\"dataframe\"><thead><tr><th>order_item_id</th><th>order_id</th><th>product_id</th><th>unit_price</th><th>quantity</th><th>item_price</th><th>created_at</th><th>updated_at</th></tr><tr><td>str</td><td>str</td><td>str</td><td>f64</td><td>i64</td><td>f64</td><td>str</td><td>str</td></tr></thead><tbody><tr><td>&quot;85e99d12-2d38-4525-834c-e14120…</td><td>&quot;9055d10b-c43e-4360-adf9-1810da…</td><td>&quot;62a2cba4-cb71-45fe-a432-8e8b76…</td><td>2.66</td><td>2</td><td>5.32</td><td>&quot;2025-04-14T12:09:58.364499&quot;</td><td>&quot;2025-04-14T12:09:58.364499&quot;</td></tr><tr><td>&quot;9dde7e47-76d1-494c-8994-bbe8f4…</td><td>&quot;7e6e04f8-6a8f-4d03-a7a6-ab47a9…</td><td>&quot;04287948-e081-4c34-bada-95184b…</td><td>34.29</td><td>1</td><td>34.29</td><td>&quot;2025-03-11T11:05:08.216695&quot;</td><td>&quot;2025-03-11T11:05:08.216695&quot;</td></tr><tr><td>&quot;8fb45932-a629-444e-a555-27299c…</td><td>&quot;7e6e04f8-6a8f-4d03-a7a6-ab47a9…</td><td>&quot;2e3b2ac7-adc0-40c6-b000-5b3297…</td><td>25.83</td><td>3</td><td>77.49</td><td>&quot;2025-03-11T11:05:08.216695&quot;</td><td>&quot;2025-03-11T11:05:08.216695&quot;</td></tr></tbody></table></div>"
      ],
      "text/plain": [
       "shape: (3, 8)\n",
       "┌────────────┬────────────┬────────────┬────────────┬──────────┬───────────┬───────────┬───────────┐\n",
       "│ order_item ┆ order_id   ┆ product_id ┆ unit_price ┆ quantity ┆ item_pric ┆ created_a ┆ updated_a │\n",
       "│ _id        ┆ ---        ┆ ---        ┆ ---        ┆ ---      ┆ e         ┆ t         ┆ t         │\n",
       "│ ---        ┆ str        ┆ str        ┆ f64        ┆ i64      ┆ ---       ┆ ---       ┆ ---       │\n",
       "│ str        ┆            ┆            ┆            ┆          ┆ f64       ┆ str       ┆ str       │\n",
       "╞════════════╪════════════╪════════════╪════════════╪══════════╪═══════════╪═══════════╪═══════════╡\n",
       "│ 85e99d12-2 ┆ 9055d10b-c ┆ 62a2cba4-c ┆ 2.66       ┆ 2        ┆ 5.32      ┆ 2025-04-1 ┆ 2025-04-1 │\n",
       "│ d38-4525-8 ┆ 43e-4360-a ┆ b71-45fe-a ┆            ┆          ┆           ┆ 4T12:09:5 ┆ 4T12:09:5 │\n",
       "│ 34c-e14120 ┆ df9-1810da ┆ 432-8e8b76 ┆            ┆          ┆           ┆ 8.364499  ┆ 8.364499  │\n",
       "│ …          ┆ …          ┆ …          ┆            ┆          ┆           ┆           ┆           │\n",
       "│ 9dde7e47-7 ┆ 7e6e04f8-6 ┆ 04287948-e ┆ 34.29      ┆ 1        ┆ 34.29     ┆ 2025-03-1 ┆ 2025-03-1 │\n",
       "│ 6d1-494c-8 ┆ a8f-4d03-a ┆ 081-4c34-b ┆            ┆          ┆           ┆ 1T11:05:0 ┆ 1T11:05:0 │\n",
       "│ 994-bbe8f4 ┆ 7a6-ab47a9 ┆ ada-95184b ┆            ┆          ┆           ┆ 8.216695  ┆ 8.216695  │\n",
       "│ …          ┆ …          ┆ …          ┆            ┆          ┆           ┆           ┆           │\n",
       "│ 8fb45932-a ┆ 7e6e04f8-6 ┆ 2e3b2ac7-a ┆ 25.83      ┆ 3        ┆ 77.49     ┆ 2025-03-1 ┆ 2025-03-1 │\n",
       "│ 629-444e-a ┆ a8f-4d03-a ┆ dc0-40c6-b ┆            ┆          ┆           ┆ 1T11:05:0 ┆ 1T11:05:0 │\n",
       "│ 555-27299c ┆ 7a6-ab47a9 ┆ 000-5b3297 ┆            ┆          ┆           ┆ 8.216695  ┆ 8.216695  │\n",
       "│ …          ┆ …          ┆ …          ┆            ┆          ┆           ┆           ┆           │\n",
       "└────────────┴────────────┴────────────┴────────────┴──────────┴───────────┴───────────┴───────────┘"
      ]
     },
     "execution_count": 77,
     "metadata": {},
     "output_type": "execute_result"
    }
   ],
   "source": [
    "odit.head(3)"
   ]
  },
  {
   "cell_type": "code",
   "execution_count": 78,
   "id": "6f4d023a-97a6-4dce-91b3-e0f3f6a35c14",
   "metadata": {},
   "outputs": [
    {
     "data": {
      "text/html": [
       "<div><style>\n",
       ".dataframe > thead > tr,\n",
       ".dataframe > tbody > tr {\n",
       "  text-align: right;\n",
       "  white-space: pre-wrap;\n",
       "}\n",
       "</style>\n",
       "<small>shape: (3, 6)</small><table border=\"1\" class=\"dataframe\"><thead><tr><th>product_id</th><th>product_name</th><th>price</th><th>category</th><th>created_at</th><th>updated_at</th></tr><tr><td>str</td><td>str</td><td>f64</td><td>str</td><td>str</td><td>str</td></tr></thead><tbody><tr><td>&quot;71a95276-8341-42ba-ba45-4498e4…</td><td>&quot;Crest 3D White Toothpaste&quot;</td><td>47.26</td><td>&quot;Personal Care &amp; Beauty&quot;</td><td>&quot;2025-06-26T23:40:24.085185&quot;</td><td>&quot;2025-06-26T23:40:24.085185&quot;</td></tr><tr><td>&quot;5e6f8032-5cf2-4ae9-8932-286306…</td><td>&quot;Lay&#x27;s Classic Potato Chips&quot;</td><td>13.97</td><td>&quot;Packaged Foods &amp; Snacks&quot;</td><td>&quot;2025-03-15T07:12:40.488184&quot;</td><td>&quot;2025-03-15T07:12:40.488184&quot;</td></tr><tr><td>&quot;53801d42-0253-44b1-bec9-eb0f6a…</td><td>&quot;Dove Beauty Bar&quot;</td><td>12.45</td><td>&quot;Personal Care &amp; Beauty&quot;</td><td>&quot;2025-08-20T04:36:25.765759&quot;</td><td>&quot;2025-08-20T04:36:25.765759&quot;</td></tr></tbody></table></div>"
      ],
      "text/plain": [
       "shape: (3, 6)\n",
       "┌──────────────────┬─────────────────┬───────┬─────────────────┬─────────────────┬─────────────────┐\n",
       "│ product_id       ┆ product_name    ┆ price ┆ category        ┆ created_at      ┆ updated_at      │\n",
       "│ ---              ┆ ---             ┆ ---   ┆ ---             ┆ ---             ┆ ---             │\n",
       "│ str              ┆ str             ┆ f64   ┆ str             ┆ str             ┆ str             │\n",
       "╞══════════════════╪═════════════════╪═══════╪═════════════════╪═════════════════╪═════════════════╡\n",
       "│ 71a95276-8341-42 ┆ Crest 3D White  ┆ 47.26 ┆ Personal Care & ┆ 2025-06-26T23:4 ┆ 2025-06-26T23:4 │\n",
       "│ ba-ba45-4498e4…  ┆ Toothpaste      ┆       ┆ Beauty          ┆ 0:24.085185     ┆ 0:24.085185     │\n",
       "│ 5e6f8032-5cf2-4a ┆ Lay's Classic   ┆ 13.97 ┆ Packaged Foods  ┆ 2025-03-15T07:1 ┆ 2025-03-15T07:1 │\n",
       "│ e9-8932-286306…  ┆ Potato Chips    ┆       ┆ & Snacks        ┆ 2:40.488184     ┆ 2:40.488184     │\n",
       "│ 53801d42-0253-44 ┆ Dove Beauty Bar ┆ 12.45 ┆ Personal Care & ┆ 2025-08-20T04:3 ┆ 2025-08-20T04:3 │\n",
       "│ b1-bec9-eb0f6a…  ┆                 ┆       ┆ Beauty          ┆ 6:25.765759     ┆ 6:25.765759     │\n",
       "└──────────────────┴─────────────────┴───────┴─────────────────┴─────────────────┴─────────────────┘"
      ]
     },
     "execution_count": 78,
     "metadata": {},
     "output_type": "execute_result"
    }
   ],
   "source": [
    "prod.head(3)"
   ]
  },
  {
   "cell_type": "code",
   "execution_count": 79,
   "id": "6d9390fe-a203-4939-989f-1ee508f9a11c",
   "metadata": {},
   "outputs": [
    {
     "data": {
      "text/html": [
       "<div><style>\n",
       ".dataframe > thead > tr,\n",
       ".dataframe > tbody > tr {\n",
       "  text-align: right;\n",
       "  white-space: pre-wrap;\n",
       "}\n",
       "</style>\n",
       "<small>shape: (4,)</small><table border=\"1\" class=\"dataframe\"><thead><tr><th>status</th></tr><tr><td>str</td></tr></thead><tbody><tr><td>&quot;shipped&quot;</td></tr><tr><td>&quot;delivered&quot;</td></tr><tr><td>&quot;cancelled&quot;</td></tr><tr><td>&quot;pending&quot;</td></tr></tbody></table></div>"
      ],
      "text/plain": [
       "shape: (4,)\n",
       "Series: 'status' [str]\n",
       "[\n",
       "\t\"shipped\"\n",
       "\t\"delivered\"\n",
       "\t\"cancelled\"\n",
       "\t\"pending\"\n",
       "]"
      ]
     },
     "execution_count": 79,
     "metadata": {},
     "output_type": "execute_result"
    }
   ],
   "source": [
    "ordr['status'].unique()"
   ]
  },
  {
   "cell_type": "code",
   "execution_count": 80,
   "id": "10d99355-97c5-4930-b1a3-c9f1458648c5",
   "metadata": {},
   "outputs": [
    {
     "data": {
      "text/html": [
       "<div><style>\n",
       ".dataframe > thead > tr,\n",
       ".dataframe > tbody > tr {\n",
       "  text-align: right;\n",
       "  white-space: pre-wrap;\n",
       "}\n",
       "</style>\n",
       "<small>shape: (6_413, 14)</small><table border=\"1\" class=\"dataframe\"><thead><tr><th>order_id</th><th>customer_id</th><th>order_date</th><th>status</th><th>total_amount</th><th>created_at</th><th>updated_at</th><th>order_item_id</th><th>product_id</th><th>unit_price</th><th>quantity</th><th>item_price</th><th>created_at_right</th><th>updated_at_right</th></tr><tr><td>str</td><td>str</td><td>str</td><td>str</td><td>f64</td><td>str</td><td>str</td><td>str</td><td>str</td><td>f64</td><td>i64</td><td>f64</td><td>str</td><td>str</td></tr></thead><tbody><tr><td>&quot;0001aad9-6b2a-4771-80ee-ee7992…</td><td>&quot;f8f74b56-c8aa-462f-bdfd-b65ca2…</td><td>&quot;2025-03-30T01:42:08.302762&quot;</td><td>&quot;delivered&quot;</td><td>187.96</td><td>&quot;2025-03-30T01:42:08.302762&quot;</td><td>&quot;2025-03-30T01:42:08.302762&quot;</td><td>&quot;49b080bf-3622-4fa9-bb73-6ab39b…</td><td>&quot;ac597e05-22ea-4d49-ac0f-a30c48…</td><td>7.83</td><td>1</td><td>7.83</td><td>&quot;2025-03-30T01:42:08.302762&quot;</td><td>&quot;2025-03-30T01:42:08.302762&quot;</td></tr><tr><td>&quot;0001aad9-6b2a-4771-80ee-ee7992…</td><td>&quot;f8f74b56-c8aa-462f-bdfd-b65ca2…</td><td>&quot;2025-03-30T01:42:08.302762&quot;</td><td>&quot;delivered&quot;</td><td>187.96</td><td>&quot;2025-03-30T01:42:08.302762&quot;</td><td>&quot;2025-03-30T01:42:08.302762&quot;</td><td>&quot;afee5822-5fc6-472e-8bf6-b802fa…</td><td>&quot;a38bc9c9-5708-487f-acdc-c4d2a4…</td><td>17.43</td><td>3</td><td>52.29</td><td>&quot;2025-03-30T01:42:08.302762&quot;</td><td>&quot;2025-03-30T01:42:08.302762&quot;</td></tr><tr><td>&quot;0001aad9-6b2a-4771-80ee-ee7992…</td><td>&quot;f8f74b56-c8aa-462f-bdfd-b65ca2…</td><td>&quot;2025-03-30T01:42:08.302762&quot;</td><td>&quot;delivered&quot;</td><td>187.96</td><td>&quot;2025-03-30T01:42:08.302762&quot;</td><td>&quot;2025-03-30T01:42:08.302762&quot;</td><td>&quot;a1bfd210-5c18-4341-9098-2d5a14…</td><td>&quot;0639509a-c3d8-41de-a4e8-7fd685…</td><td>34.69</td><td>1</td><td>34.69</td><td>&quot;2025-03-30T01:42:08.302762&quot;</td><td>&quot;2025-03-30T01:42:08.302762&quot;</td></tr><tr><td>&quot;0001aad9-6b2a-4771-80ee-ee7992…</td><td>&quot;f8f74b56-c8aa-462f-bdfd-b65ca2…</td><td>&quot;2025-03-30T01:42:08.302762&quot;</td><td>&quot;delivered&quot;</td><td>187.96</td><td>&quot;2025-03-30T01:42:08.302762&quot;</td><td>&quot;2025-03-30T01:42:08.302762&quot;</td><td>&quot;79689082-5927-453a-9f46-054fef…</td><td>&quot;2576ab50-a48d-4f9b-a071-b98e6b…</td><td>31.05</td><td>3</td><td>93.15</td><td>&quot;2025-03-30T01:42:08.302762&quot;</td><td>&quot;2025-03-30T01:42:08.302762&quot;</td></tr><tr><td>&quot;000b89a8-8ad4-4d12-a6b3-0cd160…</td><td>&quot;f4f36b09-8df3-46d6-84f8-257364…</td><td>&quot;2024-10-26T00:09:52.945890&quot;</td><td>&quot;shipped&quot;</td><td>218.34</td><td>&quot;2024-10-26T00:09:52.945890&quot;</td><td>&quot;2024-10-26T00:09:52.945890&quot;</td><td>&quot;650ee546-aaa7-4ba3-8b0c-b4e681…</td><td>&quot;2576ab50-a48d-4f9b-a071-b98e6b…</td><td>31.05</td><td>2</td><td>62.1</td><td>&quot;2024-10-26T00:09:52.945890&quot;</td><td>&quot;2024-10-26T00:09:52.945890&quot;</td></tr><tr><td>&hellip;</td><td>&hellip;</td><td>&hellip;</td><td>&hellip;</td><td>&hellip;</td><td>&hellip;</td><td>&hellip;</td><td>&hellip;</td><td>&hellip;</td><td>&hellip;</td><td>&hellip;</td><td>&hellip;</td><td>&hellip;</td><td>&hellip;</td></tr><tr><td>&quot;ffebbd14-59da-4326-a3dc-9f0eef…</td><td>&quot;31c3c86c-13b6-4d44-9131-051724…</td><td>&quot;2025-07-31T16:54:35.869442&quot;</td><td>&quot;cancelled&quot;</td><td>183.53</td><td>&quot;2025-07-31T16:54:35.869442&quot;</td><td>&quot;2025-07-31T16:54:35.869442&quot;</td><td>&quot;45b99462-1c13-422c-abc0-827ab6…</td><td>&quot;2e3b2ac7-adc0-40c6-b000-5b3297…</td><td>25.83</td><td>2</td><td>51.66</td><td>&quot;2025-07-31T16:54:35.869442&quot;</td><td>&quot;2025-07-31T16:54:35.869442&quot;</td></tr><tr><td>&quot;ffffa491-7c1d-4e68-894a-a11c3f…</td><td>&quot;76b65335-9170-4d3f-9e95-e206a2…</td><td>&quot;2025-06-06T17:54:26.721502&quot;</td><td>&quot;pending&quot;</td><td>147.71</td><td>&quot;2025-06-06T17:54:26.721502&quot;</td><td>&quot;2025-06-06T17:54:26.721502&quot;</td><td>&quot;86406596-9a98-42e0-a4e9-8e1d5f…</td><td>&quot;2576ab50-a48d-4f9b-a071-b98e6b…</td><td>31.05</td><td>2</td><td>62.1</td><td>&quot;2025-06-06T17:54:26.721502&quot;</td><td>&quot;2025-06-06T17:54:26.721502&quot;</td></tr><tr><td>&quot;ffffa491-7c1d-4e68-894a-a11c3f…</td><td>&quot;76b65335-9170-4d3f-9e95-e206a2…</td><td>&quot;2025-06-06T17:54:26.721502&quot;</td><td>&quot;pending&quot;</td><td>147.71</td><td>&quot;2025-06-06T17:54:26.721502&quot;</td><td>&quot;2025-06-06T17:54:26.721502&quot;</td><td>&quot;9266c9b4-9a2a-4017-afa7-932b27…</td><td>&quot;62a2cba4-cb71-45fe-a432-8e8b76…</td><td>2.66</td><td>1</td><td>2.66</td><td>&quot;2025-06-06T17:54:26.721502&quot;</td><td>&quot;2025-06-06T17:54:26.721502&quot;</td></tr><tr><td>&quot;ffffa491-7c1d-4e68-894a-a11c3f…</td><td>&quot;76b65335-9170-4d3f-9e95-e206a2…</td><td>&quot;2025-06-06T17:54:26.721502&quot;</td><td>&quot;pending&quot;</td><td>147.71</td><td>&quot;2025-06-06T17:54:26.721502&quot;</td><td>&quot;2025-06-06T17:54:26.721502&quot;</td><td>&quot;0c2a519f-a2b9-43ea-9bf0-34cd92…</td><td>&quot;c40efcba-4501-4f48-a62e-a449bd…</td><td>6.95</td><td>3</td><td>20.85</td><td>&quot;2025-06-06T17:54:26.721502&quot;</td><td>&quot;2025-06-06T17:54:26.721502&quot;</td></tr><tr><td>&quot;ffffa491-7c1d-4e68-894a-a11c3f…</td><td>&quot;76b65335-9170-4d3f-9e95-e206a2…</td><td>&quot;2025-06-06T17:54:26.721502&quot;</td><td>&quot;pending&quot;</td><td>147.71</td><td>&quot;2025-06-06T17:54:26.721502&quot;</td><td>&quot;2025-06-06T17:54:26.721502&quot;</td><td>&quot;3b27b91c-4ded-4ef5-b148-f55280…</td><td>&quot;2576ab50-a48d-4f9b-a071-b98e6b…</td><td>31.05</td><td>2</td><td>62.1</td><td>&quot;2025-06-06T17:54:26.721502&quot;</td><td>&quot;2025-06-06T17:54:26.721502&quot;</td></tr></tbody></table></div>"
      ],
      "text/plain": [
       "shape: (6_413, 14)\n",
       "┌───────────┬───────────┬───────────┬───────────┬───┬──────────┬───────────┬───────────┬───────────┐\n",
       "│ order_id  ┆ customer_ ┆ order_dat ┆ status    ┆ … ┆ quantity ┆ item_pric ┆ created_a ┆ updated_a │\n",
       "│ ---       ┆ id        ┆ e         ┆ ---       ┆   ┆ ---      ┆ e         ┆ t_right   ┆ t_right   │\n",
       "│ str       ┆ ---       ┆ ---       ┆ str       ┆   ┆ i64      ┆ ---       ┆ ---       ┆ ---       │\n",
       "│           ┆ str       ┆ str       ┆           ┆   ┆          ┆ f64       ┆ str       ┆ str       │\n",
       "╞═══════════╪═══════════╪═══════════╪═══════════╪═══╪══════════╪═══════════╪═══════════╪═══════════╡\n",
       "│ 0001aad9- ┆ f8f74b56- ┆ 2025-03-3 ┆ delivered ┆ … ┆ 1        ┆ 7.83      ┆ 2025-03-3 ┆ 2025-03-3 │\n",
       "│ 6b2a-4771 ┆ c8aa-462f ┆ 0T01:42:0 ┆           ┆   ┆          ┆           ┆ 0T01:42:0 ┆ 0T01:42:0 │\n",
       "│ -80ee-ee7 ┆ -bdfd-b65 ┆ 8.302762  ┆           ┆   ┆          ┆           ┆ 8.302762  ┆ 8.302762  │\n",
       "│ 992…      ┆ ca2…      ┆           ┆           ┆   ┆          ┆           ┆           ┆           │\n",
       "│ 0001aad9- ┆ f8f74b56- ┆ 2025-03-3 ┆ delivered ┆ … ┆ 3        ┆ 52.29     ┆ 2025-03-3 ┆ 2025-03-3 │\n",
       "│ 6b2a-4771 ┆ c8aa-462f ┆ 0T01:42:0 ┆           ┆   ┆          ┆           ┆ 0T01:42:0 ┆ 0T01:42:0 │\n",
       "│ -80ee-ee7 ┆ -bdfd-b65 ┆ 8.302762  ┆           ┆   ┆          ┆           ┆ 8.302762  ┆ 8.302762  │\n",
       "│ 992…      ┆ ca2…      ┆           ┆           ┆   ┆          ┆           ┆           ┆           │\n",
       "│ 0001aad9- ┆ f8f74b56- ┆ 2025-03-3 ┆ delivered ┆ … ┆ 1        ┆ 34.69     ┆ 2025-03-3 ┆ 2025-03-3 │\n",
       "│ 6b2a-4771 ┆ c8aa-462f ┆ 0T01:42:0 ┆           ┆   ┆          ┆           ┆ 0T01:42:0 ┆ 0T01:42:0 │\n",
       "│ -80ee-ee7 ┆ -bdfd-b65 ┆ 8.302762  ┆           ┆   ┆          ┆           ┆ 8.302762  ┆ 8.302762  │\n",
       "│ 992…      ┆ ca2…      ┆           ┆           ┆   ┆          ┆           ┆           ┆           │\n",
       "│ 0001aad9- ┆ f8f74b56- ┆ 2025-03-3 ┆ delivered ┆ … ┆ 3        ┆ 93.15     ┆ 2025-03-3 ┆ 2025-03-3 │\n",
       "│ 6b2a-4771 ┆ c8aa-462f ┆ 0T01:42:0 ┆           ┆   ┆          ┆           ┆ 0T01:42:0 ┆ 0T01:42:0 │\n",
       "│ -80ee-ee7 ┆ -bdfd-b65 ┆ 8.302762  ┆           ┆   ┆          ┆           ┆ 8.302762  ┆ 8.302762  │\n",
       "│ 992…      ┆ ca2…      ┆           ┆           ┆   ┆          ┆           ┆           ┆           │\n",
       "│ 000b89a8- ┆ f4f36b09- ┆ 2024-10-2 ┆ shipped   ┆ … ┆ 2        ┆ 62.1      ┆ 2024-10-2 ┆ 2024-10-2 │\n",
       "│ 8ad4-4d12 ┆ 8df3-46d6 ┆ 6T00:09:5 ┆           ┆   ┆          ┆           ┆ 6T00:09:5 ┆ 6T00:09:5 │\n",
       "│ -a6b3-0cd ┆ -84f8-257 ┆ 2.945890  ┆           ┆   ┆          ┆           ┆ 2.945890  ┆ 2.945890  │\n",
       "│ 160…      ┆ 364…      ┆           ┆           ┆   ┆          ┆           ┆           ┆           │\n",
       "│ …         ┆ …         ┆ …         ┆ …         ┆ … ┆ …        ┆ …         ┆ …         ┆ …         │\n",
       "│ ffebbd14- ┆ 31c3c86c- ┆ 2025-07-3 ┆ cancelled ┆ … ┆ 2        ┆ 51.66     ┆ 2025-07-3 ┆ 2025-07-3 │\n",
       "│ 59da-4326 ┆ 13b6-4d44 ┆ 1T16:54:3 ┆           ┆   ┆          ┆           ┆ 1T16:54:3 ┆ 1T16:54:3 │\n",
       "│ -a3dc-9f0 ┆ -9131-051 ┆ 5.869442  ┆           ┆   ┆          ┆           ┆ 5.869442  ┆ 5.869442  │\n",
       "│ eef…      ┆ 724…      ┆           ┆           ┆   ┆          ┆           ┆           ┆           │\n",
       "│ ffffa491- ┆ 76b65335- ┆ 2025-06-0 ┆ pending   ┆ … ┆ 2        ┆ 62.1      ┆ 2025-06-0 ┆ 2025-06-0 │\n",
       "│ 7c1d-4e68 ┆ 9170-4d3f ┆ 6T17:54:2 ┆           ┆   ┆          ┆           ┆ 6T17:54:2 ┆ 6T17:54:2 │\n",
       "│ -894a-a11 ┆ -9e95-e20 ┆ 6.721502  ┆           ┆   ┆          ┆           ┆ 6.721502  ┆ 6.721502  │\n",
       "│ c3f…      ┆ 6a2…      ┆           ┆           ┆   ┆          ┆           ┆           ┆           │\n",
       "│ ffffa491- ┆ 76b65335- ┆ 2025-06-0 ┆ pending   ┆ … ┆ 1        ┆ 2.66      ┆ 2025-06-0 ┆ 2025-06-0 │\n",
       "│ 7c1d-4e68 ┆ 9170-4d3f ┆ 6T17:54:2 ┆           ┆   ┆          ┆           ┆ 6T17:54:2 ┆ 6T17:54:2 │\n",
       "│ -894a-a11 ┆ -9e95-e20 ┆ 6.721502  ┆           ┆   ┆          ┆           ┆ 6.721502  ┆ 6.721502  │\n",
       "│ c3f…      ┆ 6a2…      ┆           ┆           ┆   ┆          ┆           ┆           ┆           │\n",
       "│ ffffa491- ┆ 76b65335- ┆ 2025-06-0 ┆ pending   ┆ … ┆ 3        ┆ 20.85     ┆ 2025-06-0 ┆ 2025-06-0 │\n",
       "│ 7c1d-4e68 ┆ 9170-4d3f ┆ 6T17:54:2 ┆           ┆   ┆          ┆           ┆ 6T17:54:2 ┆ 6T17:54:2 │\n",
       "│ -894a-a11 ┆ -9e95-e20 ┆ 6.721502  ┆           ┆   ┆          ┆           ┆ 6.721502  ┆ 6.721502  │\n",
       "│ c3f…      ┆ 6a2…      ┆           ┆           ┆   ┆          ┆           ┆           ┆           │\n",
       "│ ffffa491- ┆ 76b65335- ┆ 2025-06-0 ┆ pending   ┆ … ┆ 2        ┆ 62.1      ┆ 2025-06-0 ┆ 2025-06-0 │\n",
       "│ 7c1d-4e68 ┆ 9170-4d3f ┆ 6T17:54:2 ┆           ┆   ┆          ┆           ┆ 6T17:54:2 ┆ 6T17:54:2 │\n",
       "│ -894a-a11 ┆ -9e95-e20 ┆ 6.721502  ┆           ┆   ┆          ┆           ┆ 6.721502  ┆ 6.721502  │\n",
       "│ c3f…      ┆ 6a2…      ┆           ┆           ┆   ┆          ┆           ┆           ┆           │\n",
       "└───────────┴───────────┴───────────┴───────────┴───┴──────────┴───────────┴───────────┴───────────┘"
      ]
     },
     "execution_count": 80,
     "metadata": {},
     "output_type": "execute_result"
    }
   ],
   "source": [
    "ordr.join(odit, on=\"order_id\").sort(\"order_id\").filter(pl.col(\"total_amount\") >= 119.28)"
   ]
  },
  {
   "cell_type": "code",
   "execution_count": 81,
   "id": "f4303a0b-efca-4729-b038-6ef3b874c58f",
   "metadata": {},
   "outputs": [
    {
     "data": {
      "text/plain": [
       "'2025-09-19T10:54:49.792220'"
      ]
     },
     "execution_count": 81,
     "metadata": {},
     "output_type": "execute_result"
    }
   ],
   "source": [
    "ordr[\"created_at\"].max()"
   ]
  },
  {
   "cell_type": "code",
   "execution_count": null,
   "id": "f55854f1-b66e-470f-951e-0a69db51ed96",
   "metadata": {},
   "outputs": [],
   "source": []
  }
 ],
 "metadata": {
  "kernelspec": {
   "display_name": "syn-data",
   "language": "python",
   "name": "syn-data"
  },
  "language_info": {
   "codemirror_mode": {
    "name": "ipython",
    "version": 3
   },
   "file_extension": ".py",
   "mimetype": "text/x-python",
   "name": "python",
   "nbconvert_exporter": "python",
   "pygments_lexer": "ipython3",
   "version": "3.10.12"
  }
 },
 "nbformat": 4,
 "nbformat_minor": 5
}
